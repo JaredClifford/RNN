{
 "cells": [
  {
   "cell_type": "markdown",
   "id": "2f761d81",
   "metadata": {},
   "source": [
    "<b>Gathering and visualizing Data</b>"
   ]
  },
  {
   "cell_type": "code",
   "execution_count": 1,
   "id": "2a2985a6",
   "metadata": {},
   "outputs": [
    {
     "name": "stdout",
     "output_type": "stream",
     "text": [
      "[ 60 109 101 ...  97 115  32]\n",
      "   0\n",
      "0  <\n",
      "1  m\n",
      "2  e\n",
      "3  d\n",
      "4  i\n",
      "100000000\n",
      "[109, 101, 100, 105, 97, 119, 105, 107, 105, 120]\n"
     ]
    }
   ],
   "source": [
    "import os\n",
    "import pandas as pd\n",
    "import numpy as np\n",
    "import torch\n",
    "import torchvision\n",
    "import torch.nn as nn\n",
    "import torch.nn.functional as F\n",
    "\n",
    "device = torch.device(\"cpu\")\n",
    "\n",
    "data = np.frombuffer(open(\"enwik8\",encoding=\"utf8\").read().encode(), dtype=np.uint8)\n",
    "print(data)\n",
    "print(pd.DataFrame(data).head().applymap(chr))\n",
    "print(len(data))\n",
    "formatedData = []\n",
    "\n",
    "for i in data:\n",
    "    if i > 64 and i < 91:\n",
    "        formatedData.append(i+32)\n",
    "    elif i > 96 and i < 122:\n",
    "        formatedData.append(i)\n",
    "print(formatedData[0:10])"
   ]
  },
  {
   "cell_type": "code",
   "execution_count": 132,
   "id": "6efd7e9c",
   "metadata": {},
   "outputs": [
    {
     "name": "stdout",
     "output_type": "stream",
     "text": [
      "71406607\n"
     ]
    }
   ],
   "source": [
    "data = formatedData\n",
    "print(len(data))"
   ]
  },
  {
   "cell_type": "markdown",
   "id": "e33e10a0",
   "metadata": {},
   "source": [
    "<b>Create Dictionary</b>"
   ]
  },
  {
   "cell_type": "code",
   "execution_count": 3,
   "id": "5d507bf8",
   "metadata": {
    "scrolled": false
   },
   "outputs": [
    {
     "name": "stdout",
     "output_type": "stream",
     "text": [
      "[ 97  98  99 100 101 102 103 104 105 106 107 108 109 110 111 112 113 114\n",
      " 115 116 117 118 119 120 121 122]\n",
      "{97: 0, 98: 1, 99: 2, 100: 3, 101: 4, 102: 5, 103: 6, 104: 7, 105: 8, 106: 9, 107: 10, 108: 11, 109: 12, 110: 13, 111: 14, 112: 15, 113: 16, 114: 17, 115: 18, 116: 19, 117: 20, 118: 21, 119: 22, 120: 23, 121: 24, 122: 25}\n"
     ]
    }
   ],
   "source": [
    "char_count = np.unique(data)\n",
    "print(char_count)\n",
    "\n",
    "one_hot_encode_dict = {}\n",
    "for char in char_count:\n",
    "    one_hot_encode_dict[char] = len(one_hot_encode_dict)\n",
    "print(one_hot_encode_dict)"
   ]
  },
  {
   "cell_type": "markdown",
   "id": "45bf56db",
   "metadata": {},
   "source": [
    "<b> Generate list of features and labels from a list of data</b>"
   ]
  },
  {
   "cell_type": "code",
   "execution_count": 4,
   "id": "8ce9f600",
   "metadata": {},
   "outputs": [],
   "source": [
    "def to_dict(data):\n",
    "    feature = []\n",
    "    label = []\n",
    "    for i in range(30):\n",
    "        feature.append([int(one_hot_encode_dict[data[i]])])\n",
    "    for i in range(30,40):\n",
    "        label.append([int(one_hot_encode_dict[data[i]])])\n",
    "    feature = torch.as_tensor(feature, device=device)\n",
    "    label = torch.as_tensor(label, device=device)\n",
    "    return feature, label\n",
    "        \n",
    "        "
   ]
  },
  {
   "cell_type": "markdown",
   "id": "1f5405c6",
   "metadata": {},
   "source": [
    "<b>Split Data into Test, Train, and Validation</b>"
   ]
  },
  {
   "cell_type": "code",
   "execution_count": 277,
   "id": "eb6f38e0",
   "metadata": {},
   "outputs": [
    {
     "name": "stdout",
     "output_type": "stream",
     "text": [
      "4000000\n",
      "1000000\n"
     ]
    }
   ],
   "source": [
    "train_data = data[:4000000]\n",
    "test_data = data[4000000:5000000]\n",
    "print(len(train_data))\n",
    "print(len(test_data))"
   ]
  },
  {
   "cell_type": "markdown",
   "id": "3342de05",
   "metadata": {},
   "source": [
    "<b>Define LSTM Class</b>"
   ]
  },
  {
   "cell_type": "code",
   "execution_count": 278,
   "id": "d75b5ff3",
   "metadata": {},
   "outputs": [],
   "source": [
    "class EncoderRNN(nn.Module):\n",
    "    def __init__(self, input_size, hidden_size):\n",
    "        super(EncoderRNN, self).__init__()\n",
    "        self.hidden_size = hidden_size\n",
    "\n",
    "        self.embedding = nn.Embedding(input_size, hidden_size)\n",
    "        self.gru = nn.GRU(hidden_size, hidden_size)\n",
    "\n",
    "    def forward(self, input, hidden):\n",
    "        embedded = self.embedding(input).view(1, 1, -1)\n",
    "        output = embedded\n",
    "        output, hidden = self.gru(output, hidden)\n",
    "        return output, hidden\n",
    "\n",
    "    def initHidden(self):\n",
    "        return torch.zeros(1, 1, self.hidden_size, device=device)"
   ]
  },
  {
   "cell_type": "code",
   "execution_count": 279,
   "id": "911bdfa8",
   "metadata": {},
   "outputs": [],
   "source": [
    "class AttnDecoderRNN(nn.Module):\n",
    "    def __init__(self, hidden_size, output_size, dropout_p=0.1, max_length=30):\n",
    "        super(AttnDecoderRNN, self).__init__()\n",
    "        self.hidden_size = hidden_size\n",
    "        self.output_size = output_size\n",
    "        self.dropout_p = dropout_p\n",
    "        self.max_length = max_length\n",
    "\n",
    "        self.embedding = nn.Embedding(self.output_size, self.hidden_size)\n",
    "        self.attn = nn.Linear(self.hidden_size * 2, self.max_length)\n",
    "        self.attn_combine = nn.Linear(self.hidden_size * 2, self.hidden_size)\n",
    "        self.dropout = nn.Dropout(self.dropout_p)\n",
    "        self.gru = nn.GRU(self.hidden_size, self.hidden_size)\n",
    "        self.out = nn.Linear(self.hidden_size, self.output_size)\n",
    "\n",
    "    def forward(self, input, hidden, encoder_outputs):\n",
    "        embedded = self.embedding(input).view(1, 1, -1)\n",
    "        embedded = self.dropout(embedded)\n",
    "\n",
    "        attn_weights = F.softmax(\n",
    "            self.attn(torch.cat((embedded[0], hidden[0]), 1)), dim=1)\n",
    "        attn_applied = torch.bmm(attn_weights.unsqueeze(0),\n",
    "                                 encoder_outputs.unsqueeze(0))\n",
    "\n",
    "        output = torch.cat((embedded[0], attn_applied[0]), 1)\n",
    "        output = self.attn_combine(output).unsqueeze(0)\n",
    "\n",
    "        output = F.relu(output)\n",
    "        output, hidden = self.gru(output, hidden)\n",
    "\n",
    "        output = F.log_softmax(self.out(output[0]), dim=1)\n",
    "        return output, hidden, attn_weights\n",
    "\n",
    "    def initHidden(self):\n",
    "        return torch.zeros(1, 1, self.hidden_size, device=device)"
   ]
  },
  {
   "cell_type": "markdown",
   "id": "9cbec953",
   "metadata": {},
   "source": [
    "<b>Create Functions to Train Model</b>"
   ]
  },
  {
   "cell_type": "code",
   "execution_count": 280,
   "id": "6e34b171",
   "metadata": {},
   "outputs": [],
   "source": [
    "import torch.optim as optim\n",
    "def train(input_tensor, target_tensor, encoder, decoder, encoder_optimizer, decoder_optimizer, criterion, doTrain, max_length=30):\n",
    "    if (doTrain):\n",
    "        encoder_hidden = encoder.initHidden()\n",
    "\n",
    "        encoder_optimizer.zero_grad()\n",
    "        decoder_optimizer.zero_grad()\n",
    "\n",
    "        input_length = input_tensor.size(0)\n",
    "        target_length = target_tensor.size(0)\n",
    "\n",
    "        encoder_outputs = torch.zeros(30, encoder.hidden_size, device=device)\n",
    "\n",
    "        loss = 0\n",
    "\n",
    "        for ei in range(input_length):\n",
    "            encoder_output, encoder_hidden = encoder(\n",
    "                input_tensor[ei], encoder_hidden)\n",
    "            encoder_outputs[ei] = encoder_output[0, 0]\n",
    "\n",
    "        decoder_input = torch.tensor([input_tensor[input_length-1]], device=device)\n",
    "\n",
    "        decoder_hidden = encoder_hidden\n",
    "        # Without teacher forcing: use its own predictions as the next input\n",
    "\n",
    "        # Teacher forcing: Feed the target as the next input\n",
    "\n",
    "        # Teacher forcing: Feed the target as the next input\n",
    "        hit = 0\n",
    "        for di in range(10):\n",
    "            decoder_output, decoder_hidden, decoder_attention = decoder(\n",
    "                decoder_input, decoder_hidden, encoder_outputs)\n",
    "            loss += criterion(decoder_output, target_tensor[di])\n",
    "            decoder_input = target_tensor[di]  # Teacher forcing\n",
    "            maxProb = 0\n",
    "            for index in range(len(decoder_output[0])):\n",
    "                if decoder_output[0][maxProb] < decoder_output[0][index]:\n",
    "                    maxProb = index\n",
    "            if maxProb == target_tensor[di]:\n",
    "                hit += 1\n",
    "\n",
    "        loss.backward()\n",
    "\n",
    "        encoder_optimizer.step()\n",
    "        decoder_optimizer.step()\n",
    "    else:\n",
    "        with torch.no_grad():\n",
    "            encoder_hidden = encoder.initHidden()\n",
    "\n",
    "            input_length = input_tensor.size(0)\n",
    "            target_length = target_tensor.size(0)\n",
    "\n",
    "            encoder_outputs = torch.zeros(30, encoder.hidden_size, device=device)\n",
    "\n",
    "            loss = 0\n",
    "\n",
    "            for ei in range(input_length):\n",
    "                encoder_output, encoder_hidden = encoder(\n",
    "                    input_tensor[ei], encoder_hidden)\n",
    "                encoder_outputs[ei] = encoder_output[0, 0]\n",
    "\n",
    "            decoder_input = torch.tensor([input_tensor[input_length-1]], device=device)\n",
    "\n",
    "            decoder_hidden = encoder_hidden\n",
    "            hit = 0\n",
    "            for di in range(10):\n",
    "                decoder_output, decoder_hidden, decoder_attention = decoder(\n",
    "                    decoder_input, decoder_hidden, encoder_outputs)\n",
    "                loss += criterion(decoder_output, target_tensor[di])\n",
    "                decoder_input = target_tensor[di]  # Teacher forcing\n",
    "                maxProb = 0\n",
    "                for index in range(len(decoder_output[0])):\n",
    "                    if decoder_output[0][maxProb] < decoder_output[0][index]:\n",
    "                        maxProb = index\n",
    "                if maxProb == target_tensor[di]:\n",
    "                    hit += 1\n",
    "            #print(hit)\n",
    "    return (loss.item() / target_length), (hit/10)\n",
    "    "
   ]
  },
  {
   "cell_type": "code",
   "execution_count": 282,
   "id": "c1d0f4d3",
   "metadata": {},
   "outputs": [],
   "source": [
    "def train_epoch(train_data,test_data,encoder,decoder,Eoptimizer,Doptimizer,loss_function):\n",
    "    loss = 0\n",
    "    accuracy = 0\n",
    "    for i in range(int(len(train_data)/40)):\n",
    "        x_train, y_train = to_dict(train_data[(i*40):(i*40)+40])\n",
    "        lossI,accuracyI = train(x_train,y_train,encoder,decoder,Eoptimizer,Doptimizer,loss_function,True)\n",
    "        loss += lossI\n",
    "        accuracy += accuracyI\n",
    "    train_loss=loss/int(len(train_data)/40)\n",
    "    train_accuracy= accuracy/int(len(train_data)/40)\n",
    "    loss = 0\n",
    "    accuracy = 0\n",
    "    for j in range(int(len(test_data)/40)):\n",
    "        x_test, y_test = to_dict(test_data[(j*40):(j*40)+40])\n",
    "        lossJ,accuracyJ = train(x_test,y_test,encoder,decoder,Eoptimizer,Doptimizer,loss_function,False)\n",
    "        loss += lossJ\n",
    "        accuracy += accuracyJ\n",
    "    test_loss=loss/(len(test_data)/40)\n",
    "    test_accuracy = accuracy/(len(test_data)/40)\n",
    "    return train_loss,test_loss,train_accuracy,test_accuracy"
   ]
  },
  {
   "cell_type": "markdown",
   "id": "060e9994",
   "metadata": {},
   "source": [
    "<b>Initialize model</b>"
   ]
  },
  {
   "cell_type": "code",
   "execution_count": 283,
   "id": "95676442",
   "metadata": {},
   "outputs": [],
   "source": [
    "HIDDEN_DIM = 50\n",
    "input_size = len(char_count)\n",
    "encoder = EncoderRNN(input_size, HIDDEN_DIM)\n",
    "encoder.to(device)\n",
    "\n",
    "output_size = len(char_count)\n",
    "decoder = AttnDecoderRNN(HIDDEN_DIM,output_size)\n",
    "decoder.to(device)\n",
    "\n",
    "loss_function = nn.NLLLoss()\n",
    "Eoptimizer = optim.SGD(encoder.parameters(), lr=0.1)\n",
    "Doptimizer = optim.SGD(decoder.parameters(), lr=0.1)"
   ]
  },
  {
   "cell_type": "code",
   "execution_count": 337,
   "id": "e6a838be",
   "metadata": {},
   "outputs": [
    {
     "ename": "SyntaxError",
     "evalue": "invalid syntax (<ipython-input-337-bdf376bc3bad>, line 1)",
     "output_type": "error",
     "traceback": [
      "\u001b[1;36m  File \u001b[1;32m\"<ipython-input-337-bdf376bc3bad>\"\u001b[1;36m, line \u001b[1;32m1\u001b[0m\n\u001b[1;33m    <b>Run Model</b>\u001b[0m\n\u001b[1;37m    ^\u001b[0m\n\u001b[1;31mSyntaxError\u001b[0m\u001b[1;31m:\u001b[0m invalid syntax\n"
     ]
    }
   ],
   "source": [
    "<b>Run Model</b>"
   ]
  },
  {
   "cell_type": "code",
   "execution_count": 284,
   "id": "9605229e",
   "metadata": {},
   "outputs": [
    {
     "name": "stdout",
     "output_type": "stream",
     "text": [
      "Epoch  0  completed\n",
      "loss:  11.044526274271405\n",
      "Epoch  1  completed\n",
      "loss:  18.471456575698586\n",
      "Epoch  2  completed\n",
      "loss:  18.588959831199855\n",
      "Epoch  3  completed\n",
      "loss:  18.65913376753413\n",
      "Epoch  4  completed\n",
      "loss:  15.13033140118415\n",
      "Epoch  5  completed\n",
      "loss:  14.579234716558414\n",
      "Epoch  6  completed\n",
      "loss:  14.342181338050564\n",
      "Epoch  7  completed\n",
      "loss:  14.97505247306458\n",
      "Epoch  8  completed\n",
      "loss:  14.987975637495198\n",
      "Epoch  9  completed\n",
      "loss:  15.106151500307028\n",
      "Epoch  10  completed\n",
      "loss:  15.465768047513864\n",
      "Epoch  11  completed\n",
      "loss:  15.614656916933065\n",
      "Epoch  12  completed\n",
      "loss:  15.578040310434366\n",
      "Epoch  13  completed\n",
      "loss:  15.614325402522946\n",
      "Epoch  14  completed\n",
      "loss:  15.600231804946855\n",
      "it took 688 mins  27.960193157196045 secs\n"
     ]
    }
   ],
   "source": [
    "import time\n",
    "train_losses=[]\n",
    "train_accuracies=[]\n",
    "test_losses=[]\n",
    "test_accuracies=[]\n",
    "start = time.time()\n",
    "for i in range(15):\n",
    "    train_loss,test_loss,train_accuracy,test_accuracy=train_epoch(train_data,test_data,encoder,decoder,\n",
    "                                                                      Eoptimizer,Doptimizer,loss_function)\n",
    "    print(\"Epoch \",i,\" completed\")\n",
    "    print(\"loss: \", train_loss)\n",
    "    train_losses.append(train_loss)\n",
    "    train_accuracies.append(train_accuracy)\n",
    "    test_losses.append(test_loss)\n",
    "    test_accuracies.append(test_accuracy)\n",
    "\n",
    "end = time.time()\n",
    "print(\"it took\", int((end - start)/60),\"mins \",(end-start)%60,\"secs\")"
   ]
  },
  {
   "cell_type": "code",
   "execution_count": 285,
   "id": "12a478e6",
   "metadata": {},
   "outputs": [],
   "source": [
    "import matplotlib.pyplot as plt\n",
    "def plot_losses(train_losses, val_losses,title):\n",
    "    plt.plot(train_losses, \"-x\")\n",
    "    plt.plot(val_losses, \"-o\")\n",
    "    plt.xlabel(\"Epoch\")\n",
    "    plt.ylabel(title)\n",
    "    plt.legend([\"Training\", \"Testing\"])\n",
    "    plt.title(title)"
   ]
  },
  {
   "cell_type": "markdown",
   "id": "bd0353b5",
   "metadata": {},
   "source": [
    "<b>Graph Loss and Accuracy</b>"
   ]
  },
  {
   "cell_type": "code",
   "execution_count": 286,
   "id": "5e7a9647",
   "metadata": {},
   "outputs": [
    {
     "data": {
      "image/png": "[encoded data removed]",
      "text/plain": [
       "<Figure size 432x288 with 1 Axes>"
      ]
     },
     "metadata": {
      "needs_background": "light"
     },
     "output_type": "display_data"
    }
   ],
   "source": [
    "plot_losses(train_losses,test_losses,\"Loss\")"
   ]
  },
  {
   "cell_type": "code",
   "execution_count": 332,
   "id": "4dc15525",
   "metadata": {},
   "outputs": [
    {
     "data": {
      "image/png": "[encoded data removed]",
      "text/plain": [
       "<Figure size 432x288 with 1 Axes>"
      ]
     },
     "metadata": {
      "needs_background": "light"
     },
     "output_type": "display_data"
    }
   ],
   "source": [
    "plot_losses(train_accuracies,test_accuracies,\"Accuracy\")"
   ]
  },
  {
   "cell_type": "code",
   "execution_count": 327,
   "id": "4e9406fc",
   "metadata": {},
   "outputs": [],
   "source": [
    "def evaluate(encoder, decoder, evaluate, max_length=30):\n",
    "    with torch.no_grad():\n",
    "        input_length = evaluate.size()[0]\n",
    "        encoder_hidden = encoder.initHidden()\n",
    "\n",
    "        encoder_outputs = torch.zeros(max_length, encoder.hidden_size, device=device)\n",
    "\n",
    "        for ei in range(input_length):\n",
    "            encoder_output, encoder_hidden = encoder(evaluate[ei],\n",
    "                                                     encoder_hidden)\n",
    "            encoder_outputs[ei] += encoder_output[0, 0]\n",
    "\n",
    "        decoder_input = torch.tensor([evaluate[input_length-1]], device=device)\n",
    "\n",
    "        decoder_hidden = encoder_hidden\n",
    "\n",
    "        decoded_words = []\n",
    "        decoder_attentions = torch.zeros(max_length, max_length)\n",
    "\n",
    "        for di in range(10):\n",
    "            decoder_output, decoder_hidden, decoder_attention = decoder(\n",
    "                decoder_input, decoder_hidden, encoder_outputs)\n",
    "            decoder_attentions[di] = decoder_attention.data\n",
    "            topv, topi = decoder_output.data.topk(1)\n",
    "            decoded_words.append(topi.item())\n",
    "\n",
    "            decoder_input = topi.squeeze().detach()\n",
    "\n",
    "        return decoded_words, decoder_attentions[:di + 1]"
   ]
  },
  {
   "cell_type": "markdown",
   "id": "5def14cf",
   "metadata": {},
   "source": [
    "<b>Show example of output</b>"
   ]
  },
  {
   "cell_type": "code",
   "execution_count": 335,
   "id": "ff9783a0",
   "metadata": {},
   "outputs": [],
   "source": [
    "splice = random.randint(0,71406607-40)\n",
    "arr_list = data[splice:splice+40]\n",
    "evaluate_tensor, correct_tensor = to_dict(arr_list)\n",
    "evaluate_list,attentions = evaluate(encoder,decoder,evaluate_tensor)"
   ]
  },
  {
   "cell_type": "code",
   "execution_count": 336,
   "id": "e65b16b1",
   "metadata": {},
   "outputs": [
    {
     "name": "stdout",
     "output_type": "stream",
     "text": [
      "bbedwinterfestwhichishelddownt\n",
      "ownattheci\n",
      "ninininini"
     ]
    }
   ],
   "source": [
    "for i in arr_list[:30]:\n",
    "    print(chr(i),end='')\n",
    "print()\n",
    "for i in arr_list[30:40]:\n",
    "    print(chr(i),end='')\n",
    "print()\n",
    "for i in evaluate_list:\n",
    "    print(chr(i+97),end='')"
   ]
  },
  {
   "cell_type": "code",
   "execution_count": null,
   "id": "d3d389e2",
   "metadata": {},
   "outputs": [],
   "source": []
  },
  {
   "cell_type": "code",
   "execution_count": null,
   "id": "4b4844b1",
   "metadata": {},
   "outputs": [],
   "source": []
  }
 ],
 "metadata": {
  "kernelspec": {
   "display_name": "Python 3",
   "language": "python",
   "name": "python3"
  },
  "language_info": {
   "codemirror_mode": {
    "name": "ipython",
    "version": 3
   },
   "file_extension": ".py",
   "mimetype": "text/x-python",
   "name": "python",
   "nbconvert_exporter": "python",
   "pygments_lexer": "ipython3",
   "version": "3.8.8"
  }
 },
 "nbformat": 4,
 "nbformat_minor": 5
}
